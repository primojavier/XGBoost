{
 "cells": [
  {
   "cell_type": "code",
   "execution_count": 1,
   "id": "66dc1948-a964-47f5-9603-9dbf4995736b",
   "metadata": {},
   "outputs": [],
   "source": [
    "from EffectiveXGBoost import *\n",
    "from sklearn import tree\n",
    "import matplotlib.pyplot as plt\n",
    "import seaborn.objects as so"
   ]
  },
  {
   "cell_type": "code",
   "execution_count": 2,
   "id": "219fb4ab-ae78-4957-9bc8-b7b5f2e25933",
   "metadata": {},
   "outputs": [
    {
     "name": "stderr",
     "output_type": "stream",
     "text": [
      "G:\\My Drive\\SisengAI\\AlgorithmicTrading\\code_rebuilding\\MattHarrison\\EffectiveXGBoost\\EffectiveXGBoost.py:56: DtypeWarning: Columns (0,2,8,10,21,23,24,25,26,27,28,44,56,64,83,85,87,107,109,123,125,150,157,172,174,194,210,218,219,223,246,249,262,264,276,277,278,279,280,281,282,283,284,285,286,287,288,289,290,304,306,325,326,329,341,368,371,384,385,389,390,391,393,394) have mixed types. Specify dtype option on import or set low_memory=False.\n",
      "  all_df = pd.read_csv(z.open(dataset))\n"
     ]
    },
    {
     "data": {
      "text/html": [
       "<div>\n",
       "<style scoped>\n",
       "    .dataframe tbody tr th:only-of-type {\n",
       "        vertical-align: middle;\n",
       "    }\n",
       "\n",
       "    .dataframe tbody tr th {\n",
       "        vertical-align: top;\n",
       "    }\n",
       "\n",
       "    .dataframe thead th {\n",
       "        text-align: right;\n",
       "    }\n",
       "</style>\n",
       "<table border=\"1\" class=\"dataframe\">\n",
       "  <thead>\n",
       "    <tr style=\"text-align: right;\">\n",
       "      <th></th>\n",
       "      <th>Q1</th>\n",
       "      <th>Q3</th>\n",
       "      <th>age</th>\n",
       "      <th>education</th>\n",
       "      <th>major</th>\n",
       "      <th>years_exp</th>\n",
       "      <th>compensation</th>\n",
       "      <th>python</th>\n",
       "      <th>r</th>\n",
       "      <th>sql</th>\n",
       "    </tr>\n",
       "  </thead>\n",
       "  <tbody>\n",
       "    <tr>\n",
       "      <th>1</th>\n",
       "      <td>Female</td>\n",
       "      <td>United States of America</td>\n",
       "      <td>45</td>\n",
       "      <td>20.0</td>\n",
       "      <td>other</td>\n",
       "      <td>NaN</td>\n",
       "      <td>0</td>\n",
       "      <td>0</td>\n",
       "      <td>0</td>\n",
       "      <td>0</td>\n",
       "    </tr>\n",
       "    <tr>\n",
       "      <th>2</th>\n",
       "      <td>Male</td>\n",
       "      <td>Indonesia</td>\n",
       "      <td>30</td>\n",
       "      <td>16.0</td>\n",
       "      <td>eng</td>\n",
       "      <td>5.0</td>\n",
       "      <td>10000</td>\n",
       "      <td>0</td>\n",
       "      <td>0</td>\n",
       "      <td>1</td>\n",
       "    </tr>\n",
       "    <tr>\n",
       "      <th>3</th>\n",
       "      <td>Female</td>\n",
       "      <td>United States of America</td>\n",
       "      <td>30</td>\n",
       "      <td>18.0</td>\n",
       "      <td>cs</td>\n",
       "      <td>0.0</td>\n",
       "      <td>0</td>\n",
       "      <td>0</td>\n",
       "      <td>1</td>\n",
       "      <td>0</td>\n",
       "    </tr>\n",
       "    <tr>\n",
       "      <th>4</th>\n",
       "      <td>Male</td>\n",
       "      <td>United States of America</td>\n",
       "      <td>35</td>\n",
       "      <td>18.0</td>\n",
       "      <td>other</td>\n",
       "      <td>NaN</td>\n",
       "      <td>0</td>\n",
       "      <td>1</td>\n",
       "      <td>1</td>\n",
       "      <td>1</td>\n",
       "    </tr>\n",
       "    <tr>\n",
       "      <th>5</th>\n",
       "      <td>Male</td>\n",
       "      <td>India</td>\n",
       "      <td>22</td>\n",
       "      <td>18.0</td>\n",
       "      <td>stat</td>\n",
       "      <td>0.0</td>\n",
       "      <td>0</td>\n",
       "      <td>0</td>\n",
       "      <td>0</td>\n",
       "      <td>1</td>\n",
       "    </tr>\n",
       "  </tbody>\n",
       "</table>\n",
       "</div>"
      ],
      "text/plain": [
       "       Q1                        Q3  age  education  major  years_exp  \\\n",
       "1  Female  United States of America   45       20.0  other        NaN   \n",
       "2    Male                 Indonesia   30       16.0    eng        5.0   \n",
       "3  Female  United States of America   30       18.0     cs        0.0   \n",
       "4    Male  United States of America   35       18.0  other        NaN   \n",
       "5    Male                     India   22       18.0   stat        0.0   \n",
       "\n",
       "   compensation  python  r  sql  \n",
       "1             0       0  0    0  \n",
       "2         10000       0  0    1  \n",
       "3             0       0  1    0  \n",
       "4             0       1  1    1  \n",
       "5             0       0  0    1  "
      ]
     },
     "execution_count": 2,
     "metadata": {},
     "output_type": "execute_result"
    }
   ],
   "source": [
    "path_url = 'https://github.com/mattharrison/datasets/raw/master/data/kaggle-survey-2018.zip'\n",
    "file_name = 'kaggle-survey-2018.zip'\n",
    "dataset = 'multipleChoiceResponses.csv'\n",
    "\n",
    "survey_df = extract_dataset(path_url, file_name, dataset)\n",
    "final_df = prep_data(survey_df)\n",
    "final_df.head()"
   ]
  },
  {
   "cell_type": "code",
   "execution_count": 3,
   "id": "aded525e-68af-4709-b461-678d280f98a0",
   "metadata": {},
   "outputs": [
    {
     "data": {
      "text/html": [
       "<div>\n",
       "<style scoped>\n",
       "    .dataframe tbody tr th:only-of-type {\n",
       "        vertical-align: middle;\n",
       "    }\n",
       "\n",
       "    .dataframe tbody tr th {\n",
       "        vertical-align: top;\n",
       "    }\n",
       "\n",
       "    .dataframe thead th {\n",
       "        text-align: right;\n",
       "    }\n",
       "</style>\n",
       "<table border=\"1\" class=\"dataframe\">\n",
       "  <thead>\n",
       "    <tr style=\"text-align: right;\">\n",
       "      <th></th>\n",
       "      <th>age</th>\n",
       "      <th>education</th>\n",
       "      <th>years_exp</th>\n",
       "      <th>compensation</th>\n",
       "      <th>python</th>\n",
       "      <th>r</th>\n",
       "      <th>sql</th>\n",
       "      <th>Q1_Male</th>\n",
       "      <th>Q1_Female</th>\n",
       "      <th>Q1_Prefer not to say</th>\n",
       "      <th>Q1_Prefer to self-describe</th>\n",
       "      <th>Q3_United States of America</th>\n",
       "      <th>Q3_India</th>\n",
       "      <th>Q3_China</th>\n",
       "      <th>major_cs</th>\n",
       "      <th>major_other</th>\n",
       "      <th>major_eng</th>\n",
       "      <th>major_stat</th>\n",
       "    </tr>\n",
       "  </thead>\n",
       "  <tbody>\n",
       "    <tr>\n",
       "      <th>8692</th>\n",
       "      <td>22</td>\n",
       "      <td>18.0</td>\n",
       "      <td>1.0</td>\n",
       "      <td>0</td>\n",
       "      <td>1</td>\n",
       "      <td>1</td>\n",
       "      <td>1</td>\n",
       "      <td>1</td>\n",
       "      <td>0</td>\n",
       "      <td>0</td>\n",
       "      <td>0</td>\n",
       "      <td>0</td>\n",
       "      <td>1</td>\n",
       "      <td>0</td>\n",
       "      <td>0</td>\n",
       "      <td>0</td>\n",
       "      <td>1</td>\n",
       "      <td>0</td>\n",
       "    </tr>\n",
       "    <tr>\n",
       "      <th>15767</th>\n",
       "      <td>22</td>\n",
       "      <td>18.0</td>\n",
       "      <td>2.0</td>\n",
       "      <td>0</td>\n",
       "      <td>1</td>\n",
       "      <td>0</td>\n",
       "      <td>1</td>\n",
       "      <td>1</td>\n",
       "      <td>0</td>\n",
       "      <td>0</td>\n",
       "      <td>0</td>\n",
       "      <td>1</td>\n",
       "      <td>0</td>\n",
       "      <td>0</td>\n",
       "      <td>1</td>\n",
       "      <td>0</td>\n",
       "      <td>0</td>\n",
       "      <td>0</td>\n",
       "    </tr>\n",
       "    <tr>\n",
       "      <th>13369</th>\n",
       "      <td>25</td>\n",
       "      <td>18.0</td>\n",
       "      <td>3.0</td>\n",
       "      <td>150000</td>\n",
       "      <td>1</td>\n",
       "      <td>0</td>\n",
       "      <td>1</td>\n",
       "      <td>0</td>\n",
       "      <td>1</td>\n",
       "      <td>0</td>\n",
       "      <td>0</td>\n",
       "      <td>1</td>\n",
       "      <td>0</td>\n",
       "      <td>0</td>\n",
       "      <td>0</td>\n",
       "      <td>0</td>\n",
       "      <td>1</td>\n",
       "      <td>0</td>\n",
       "    </tr>\n",
       "    <tr>\n",
       "      <th>9114</th>\n",
       "      <td>30</td>\n",
       "      <td>16.0</td>\n",
       "      <td>10.0</td>\n",
       "      <td>10000</td>\n",
       "      <td>1</td>\n",
       "      <td>1</td>\n",
       "      <td>1</td>\n",
       "      <td>1</td>\n",
       "      <td>0</td>\n",
       "      <td>0</td>\n",
       "      <td>0</td>\n",
       "      <td>0</td>\n",
       "      <td>1</td>\n",
       "      <td>0</td>\n",
       "      <td>0</td>\n",
       "      <td>0</td>\n",
       "      <td>1</td>\n",
       "      <td>0</td>\n",
       "    </tr>\n",
       "    <tr>\n",
       "      <th>267</th>\n",
       "      <td>22</td>\n",
       "      <td>16.0</td>\n",
       "      <td>1.0</td>\n",
       "      <td>0</td>\n",
       "      <td>1</td>\n",
       "      <td>0</td>\n",
       "      <td>1</td>\n",
       "      <td>1</td>\n",
       "      <td>0</td>\n",
       "      <td>0</td>\n",
       "      <td>0</td>\n",
       "      <td>0</td>\n",
       "      <td>1</td>\n",
       "      <td>0</td>\n",
       "      <td>1</td>\n",
       "      <td>0</td>\n",
       "      <td>0</td>\n",
       "      <td>0</td>\n",
       "    </tr>\n",
       "    <tr>\n",
       "      <th>10714</th>\n",
       "      <td>22</td>\n",
       "      <td>18.0</td>\n",
       "      <td>3.0</td>\n",
       "      <td>0</td>\n",
       "      <td>1</td>\n",
       "      <td>0</td>\n",
       "      <td>1</td>\n",
       "      <td>0</td>\n",
       "      <td>1</td>\n",
       "      <td>0</td>\n",
       "      <td>0</td>\n",
       "      <td>1</td>\n",
       "      <td>0</td>\n",
       "      <td>0</td>\n",
       "      <td>1</td>\n",
       "      <td>0</td>\n",
       "      <td>0</td>\n",
       "      <td>0</td>\n",
       "    </tr>\n",
       "    <tr>\n",
       "      <th>20886</th>\n",
       "      <td>30</td>\n",
       "      <td>18.0</td>\n",
       "      <td>10.0</td>\n",
       "      <td>20000</td>\n",
       "      <td>0</td>\n",
       "      <td>0</td>\n",
       "      <td>0</td>\n",
       "      <td>1</td>\n",
       "      <td>0</td>\n",
       "      <td>0</td>\n",
       "      <td>0</td>\n",
       "      <td>0</td>\n",
       "      <td>1</td>\n",
       "      <td>0</td>\n",
       "      <td>0</td>\n",
       "      <td>0</td>\n",
       "      <td>1</td>\n",
       "      <td>0</td>\n",
       "    </tr>\n",
       "  </tbody>\n",
       "</table>\n",
       "</div>"
      ],
      "text/plain": [
       "       age  education  years_exp  compensation  python  r  sql  Q1_Male  \\\n",
       "8692    22       18.0        1.0             0       1  1    1        1   \n",
       "15767   22       18.0        2.0             0       1  0    1        1   \n",
       "13369   25       18.0        3.0        150000       1  0    1        0   \n",
       "9114    30       16.0       10.0         10000       1  1    1        1   \n",
       "267     22       16.0        1.0             0       1  0    1        1   \n",
       "10714   22       18.0        3.0             0       1  0    1        0   \n",
       "20886   30       18.0       10.0         20000       0  0    0        1   \n",
       "\n",
       "       Q1_Female  Q1_Prefer not to say  Q1_Prefer to self-describe  \\\n",
       "8692           0                     0                           0   \n",
       "15767          0                     0                           0   \n",
       "13369          1                     0                           0   \n",
       "9114           0                     0                           0   \n",
       "267            0                     0                           0   \n",
       "10714          1                     0                           0   \n",
       "20886          0                     0                           0   \n",
       "\n",
       "       Q3_United States of America  Q3_India  Q3_China  major_cs  major_other  \\\n",
       "8692                             0         1         0         0            0   \n",
       "15767                            1         0         0         1            0   \n",
       "13369                            1         0         0         0            0   \n",
       "9114                             0         1         0         0            0   \n",
       "267                              0         1         0         1            0   \n",
       "10714                            1         0         0         1            0   \n",
       "20886                            0         1         0         0            0   \n",
       "\n",
       "       major_eng  major_stat  \n",
       "8692           1           0  \n",
       "15767          0           0  \n",
       "13369          1           0  \n",
       "9114           1           0  \n",
       "267            0           0  \n",
       "10714          0           0  \n",
       "20886          1           0  "
      ]
     },
     "execution_count": 3,
     "metadata": {},
     "output_type": "execute_result"
    }
   ],
   "source": [
    "pline = pipeline.Pipeline(\n",
    "    [('tweak', PrepDataTransformer()),\n",
    "    ('cat', encoding.OneHotEncoder(top_categories=5, drop_last=True,\n",
    "    variables=['Q1', 'Q3', 'major'])),\n",
    "    ('num_impute', imputation.MeanMedianImputer(imputation_method='median',\n",
    "                variables=['education', 'years_exp']))]\n",
    "    )\n",
    "\n",
    "X, y = prepX_y(survey_df, 'Q6')\n",
    "\n",
    "sur_X_train, sur_X_test, sur_y_train, sur_y_test = (model_selection\n",
    "                                    .train_test_split(X, y, \n",
    "                                                      test_size=.3, \n",
    "                                                      random_state=42, \n",
    "                                                      stratify=y)\n",
    "                                                        )\n",
    "\n",
    "X_train = pline.fit_transform(sur_X_train, sur_y_train)\n",
    "X_test = pline.transform(sur_X_test)\n",
    "X_train.sample(7)"
   ]
  },
  {
   "cell_type": "markdown",
   "id": "8234293e-6e46-4c2a-a42a-9bc64429a9e3",
   "metadata": {},
   "source": [
    "## 5.1 Scikit-learn stump on real data\n",
    "We will create the stump and visualize it. We will use our pipeline to prepare the training\n",
    "data. Remember that the pipeline uses _pandas_ code to clean up the raw data, then we use\n",
    "categorical encoding on the non-numeric columns, and finally, we fill in the missing values\n",
    "for education level and experience.\n",
    "\n",
    "We will feed the raw data, `sur_X_train`, into the `.fit_transform` method of the pipeline and\n",
    "get out the cleaned-up training data, `X_train`. Then we will create a stump and train it with the\n",
    "`.fit` method:"
   ]
  },
  {
   "cell_type": "code",
   "execution_count": 4,
   "id": "459164e3-53c6-44a2-8168-66338e583743",
   "metadata": {},
   "outputs": [
    {
     "data": {
      "text/html": [
       "<style>#sk-container-id-1 {color: black;background-color: white;}#sk-container-id-1 pre{padding: 0;}#sk-container-id-1 div.sk-toggleable {background-color: white;}#sk-container-id-1 label.sk-toggleable__label {cursor: pointer;display: block;width: 100%;margin-bottom: 0;padding: 0.3em;box-sizing: border-box;text-align: center;}#sk-container-id-1 label.sk-toggleable__label-arrow:before {content: \"▸\";float: left;margin-right: 0.25em;color: #696969;}#sk-container-id-1 label.sk-toggleable__label-arrow:hover:before {color: black;}#sk-container-id-1 div.sk-estimator:hover label.sk-toggleable__label-arrow:before {color: black;}#sk-container-id-1 div.sk-toggleable__content {max-height: 0;max-width: 0;overflow: hidden;text-align: left;background-color: #f0f8ff;}#sk-container-id-1 div.sk-toggleable__content pre {margin: 0.2em;color: black;border-radius: 0.25em;background-color: #f0f8ff;}#sk-container-id-1 input.sk-toggleable__control:checked~div.sk-toggleable__content {max-height: 200px;max-width: 100%;overflow: auto;}#sk-container-id-1 input.sk-toggleable__control:checked~label.sk-toggleable__label-arrow:before {content: \"▾\";}#sk-container-id-1 div.sk-estimator input.sk-toggleable__control:checked~label.sk-toggleable__label {background-color: #d4ebff;}#sk-container-id-1 div.sk-label input.sk-toggleable__control:checked~label.sk-toggleable__label {background-color: #d4ebff;}#sk-container-id-1 input.sk-hidden--visually {border: 0;clip: rect(1px 1px 1px 1px);clip: rect(1px, 1px, 1px, 1px);height: 1px;margin: -1px;overflow: hidden;padding: 0;position: absolute;width: 1px;}#sk-container-id-1 div.sk-estimator {font-family: monospace;background-color: #f0f8ff;border: 1px dotted black;border-radius: 0.25em;box-sizing: border-box;margin-bottom: 0.5em;}#sk-container-id-1 div.sk-estimator:hover {background-color: #d4ebff;}#sk-container-id-1 div.sk-parallel-item::after {content: \"\";width: 100%;border-bottom: 1px solid gray;flex-grow: 1;}#sk-container-id-1 div.sk-label:hover label.sk-toggleable__label {background-color: #d4ebff;}#sk-container-id-1 div.sk-serial::before {content: \"\";position: absolute;border-left: 1px solid gray;box-sizing: border-box;top: 0;bottom: 0;left: 50%;z-index: 0;}#sk-container-id-1 div.sk-serial {display: flex;flex-direction: column;align-items: center;background-color: white;padding-right: 0.2em;padding-left: 0.2em;position: relative;}#sk-container-id-1 div.sk-item {position: relative;z-index: 1;}#sk-container-id-1 div.sk-parallel {display: flex;align-items: stretch;justify-content: center;background-color: white;position: relative;}#sk-container-id-1 div.sk-item::before, #sk-container-id-1 div.sk-parallel-item::before {content: \"\";position: absolute;border-left: 1px solid gray;box-sizing: border-box;top: 0;bottom: 0;left: 50%;z-index: -1;}#sk-container-id-1 div.sk-parallel-item {display: flex;flex-direction: column;z-index: 1;position: relative;background-color: white;}#sk-container-id-1 div.sk-parallel-item:first-child::after {align-self: flex-end;width: 50%;}#sk-container-id-1 div.sk-parallel-item:last-child::after {align-self: flex-start;width: 50%;}#sk-container-id-1 div.sk-parallel-item:only-child::after {width: 0;}#sk-container-id-1 div.sk-dashed-wrapped {border: 1px dashed gray;margin: 0 0.4em 0.5em 0.4em;box-sizing: border-box;padding-bottom: 0.4em;background-color: white;}#sk-container-id-1 div.sk-label label {font-family: monospace;font-weight: bold;display: inline-block;line-height: 1.2em;}#sk-container-id-1 div.sk-label-container {text-align: center;}#sk-container-id-1 div.sk-container {/* jupyter's `normalize.less` sets `[hidden] { display: none; }` but bootstrap.min.css set `[hidden] { display: none !important; }` so we also need the `!important` here to be able to override the default hidden behavior on the sphinx rendered scikit-learn.org. See: https://github.com/scikit-learn/scikit-learn/issues/21755 */display: inline-block !important;position: relative;}#sk-container-id-1 div.sk-text-repr-fallback {display: none;}</style><div id=\"sk-container-id-1\" class=\"sk-top-container\"><div class=\"sk-text-repr-fallback\"><pre>DecisionTreeClassifier(max_depth=1)</pre><b>In a Jupyter environment, please rerun this cell to show the HTML representation or trust the notebook. <br />On GitHub, the HTML representation is unable to render, please try loading this page with nbviewer.org.</b></div><div class=\"sk-container\" hidden><div class=\"sk-item\"><div class=\"sk-estimator sk-toggleable\"><input class=\"sk-toggleable__control sk-hidden--visually\" id=\"sk-estimator-id-1\" type=\"checkbox\" checked><label for=\"sk-estimator-id-1\" class=\"sk-toggleable__label sk-toggleable__label-arrow\">DecisionTreeClassifier</label><div class=\"sk-toggleable__content\"><pre>DecisionTreeClassifier(max_depth=1)</pre></div></div></div></div></div>"
      ],
      "text/plain": [
       "DecisionTreeClassifier(max_depth=1)"
      ]
     },
     "execution_count": 4,
     "metadata": {},
     "output_type": "execute_result"
    }
   ],
   "source": [
    "stump_dt = tree.DecisionTreeClassifier(max_depth=1)\n",
    "X_train = pline.fit_transform(sur_X_train)\n",
    "stump_dt.fit(X_train, sur_y_train)"
   ]
  },
  {
   "cell_type": "code",
   "execution_count": 5,
   "id": "2e637577-84f5-4a48-88f9-7e38f5390b38",
   "metadata": {},
   "outputs": [
    {
     "data": {
      "text/plain": [
       "[Text(0.5, 0.75, 'r <= 0.5\\ngini = 0.496\\nsamples = 2110\\nvalue = [1153, 957]\\nclass = Data Scientist'),\n",
       " Text(0.25, 0.25, 'gini = 0.493\\nsamples = 1484\\nvalue = [653, 831]\\nclass = Software Engineer'),\n",
       " Text(0.75, 0.25, 'gini = 0.322\\nsamples = 626\\nvalue = [500, 126]\\nclass = Data Scientist')]"
      ]
     },
     "execution_count": 5,
     "metadata": {},
     "output_type": "execute_result"
    },
    {
     "data": {
      "image/png": "[encoded data removed]",
      "text/plain": [
       "<Figure size 576x288 with 1 Axes>"
      ]
     },
     "metadata": {
      "needs_background": "light"
     },
     "output_type": "display_data"
    }
   ],
   "source": [
    "fig, ax = plt.subplots(figsize=(8, 4))\n",
    "features = list(c for c in X_train.columns)\n",
    "tree.plot_tree(stump_dt, feature_names=features,\n",
    "               filled=True, \n",
    "               class_names=stump_dt.classes_,\n",
    "               ax=ax)"
   ]
  },
  {
   "cell_type": "markdown",
   "id": "b3e7ae08-2aa9-4799-a491-4d8792f645f6",
   "metadata": {},
   "source": [
    "We can evaluate the accuracy of our model with the .score method. We call this method on\n",
    "the holdout set, `X_test`."
   ]
  },
  {
   "cell_type": "code",
   "execution_count": 6,
   "id": "43f146c8-69e1-438e-829f-18ddc8f9b90d",
   "metadata": {},
   "outputs": [
    {
     "data": {
      "text/plain": [
       "0.6243093922651933"
      ]
     },
     "execution_count": 6,
     "metadata": {},
     "output_type": "execute_result"
    }
   ],
   "source": [
    "X_test = pline.transform(sur_X_test)\n",
    "stump_dt.score(X_test, sur_y_test)"
   ]
  },
  {
   "cell_type": "markdown",
   "id": "15d46f12-b4ea-4aab-9296-7a03dba5f00a",
   "metadata": {},
   "source": [
    "This model classified $62\\%$ of the occupations correctly by just looking at a single\n",
    "column, the `R` column.\n",
    "\n",
    "We can create a baseline model\n",
    "using the `DummyClassifier`. This classifier just predicts the most common label, in our case\n",
    "`'Data Scientist'`. This provides a baseline score that our\n",
    "model should be able to beat. If we can’t beat that model, we shouldn’t be using machine\n",
    "learning."
   ]
  },
  {
   "cell_type": "code",
   "execution_count": 7,
   "id": "8d34cf49-1e69-4a31-aecc-81105300c4f9",
   "metadata": {},
   "outputs": [
    {
     "data": {
      "text/plain": [
       "0.5458563535911602"
      ]
     },
     "execution_count": 7,
     "metadata": {},
     "output_type": "execute_result"
    }
   ],
   "source": [
    "from sklearn import dummy\n",
    "dummy_model = dummy.DummyClassifier()\n",
    "dummy_model.fit(X_train, sur_y_train)\n",
    "dummy_model.score(X_test, sur_y_test)"
   ]
  },
  {
   "cell_type": "markdown",
   "id": "986812a5-f988-442c-8b71-0d59c4b9f404",
   "metadata": {},
   "source": [
    "The baseline performance is $54\\%$ accuracy (which is the percent of values that are\n",
    "`'Data Scientist'`). Our stump accuracy is better than the baseline, which doesn't necessarily qualify a model as _\"good\"_; but it does indicate that the model is potentially\n",
    "useful."
   ]
  },
  {
   "cell_type": "markdown",
   "id": "6503ff10-8c04-4511-92bb-5d41e771779f",
   "metadata": {},
   "source": [
    "## 5.2 Decision Stump with XGBoost\n",
    "XGBoost uses  _boosting_ and _gradient descent_ instead of the Gini calculation to decide how to make calculations. To improve models, _boosting_ uses a model and combines it with other models. The subsequent models are trained from the error of the previous model with\n",
    "the goal to reduce that error.  This process of\n",
    "minimizing the error is specified into an objective function such that the _gradient descent_\n",
    "algorithm can be applied.\n",
    "\n",
    "We will now create a stump with XGBoost by setting the parameter `n_estimators` to $1$ and see if it\n",
    "performs similarly to the scikit-learn stump. However unlike scikit-learn, XGBoost\n",
    "does not work with string labels but integer values. When we run it we get the following error:\n",
    "\n",
    "```python\n",
    "ValueError: Invalid classes inferred from unique values of `y`.  Expected: [0 1], got ['Data Scientist' 'Software Engineer']\n",
    "```\n",
    "\n",
    "we will use the `LabelEncoder` class from scikit-learn\n",
    "to convert the labels to numbers. The `label_encoder` stores attributes that are useful when\n",
    "preparing data for future predictions."
   ]
  },
  {
   "cell_type": "code",
   "execution_count": 8,
   "id": "1f6b6518-d952-46de-a723-e97489c426cc",
   "metadata": {},
   "outputs": [
    {
     "data": {
      "text/plain": [
       "7894     Software Engineer\n",
       "10541       Data Scientist\n",
       "21353       Data Scientist\n",
       "13879    Software Engineer\n",
       "21971    Software Engineer\n",
       "Name: Q6, dtype: object"
      ]
     },
     "execution_count": 8,
     "metadata": {},
     "output_type": "execute_result"
    }
   ],
   "source": [
    "sur_y_test.iloc[:5]"
   ]
  },
  {
   "cell_type": "code",
   "execution_count": 9,
   "id": "98271aa7-67c1-451a-b258-aa97eaebbef5",
   "metadata": {},
   "outputs": [
    {
     "data": {
      "text/plain": [
       "array([1, 0, 0, 1, 1])"
      ]
     },
     "execution_count": 9,
     "metadata": {},
     "output_type": "execute_result"
    }
   ],
   "source": [
    "import xgboost as xgb\n",
    "from sklearn import preprocessing\n",
    "label_encoder = preprocessing.LabelEncoder()\n",
    "y_train = label_encoder.fit_transform(sur_y_train)\n",
    "y_test = label_encoder.transform(sur_y_test)\n",
    "y_test[:5]"
   ]
  },
  {
   "cell_type": "markdown",
   "id": "847a40de-d143-4565-b65f-3bd307f11ca8",
   "metadata": {},
   "source": [
    "The `label_encoder` returns $1s$ and $0s$. Running the `.classes_` will show us what we have encoded. The index of these values is the\n",
    "number that the encoder uses."
   ]
  },
  {
   "cell_type": "code",
   "execution_count": 10,
   "id": "cb91e20f-48e5-4dd0-91e3-a3b39678a9c3",
   "metadata": {},
   "outputs": [
    {
     "data": {
      "text/plain": [
       "array(['Data Scientist', 'Software Engineer'], dtype=object)"
      ]
     },
     "execution_count": 10,
     "metadata": {},
     "output_type": "execute_result"
    }
   ],
   "source": [
    "label_encoder.classes_"
   ]
  },
  {
   "cell_type": "markdown",
   "id": "c48c48f7-b345-4036-b50b-c2f7eebfb4ef",
   "metadata": {},
   "source": [
    "Because 'Data Scientist' is in index 0 in `.classes_`, it is the $0$ value in the training labels.\n",
    "The $1$ represents 'Software Engineer'. This is also called the positive label.\n",
    "\n",
    "The `label_encoder` has an `.inverse_transform` method that reverses the transformation we have seen.\n",
    "\n",
    "```python\n",
    "label_encoder.inverse_transform([0, 1])\n",
    "```\n",
    "\n",
    "Let us continue with our model building."
   ]
  },
  {
   "cell_type": "code",
   "execution_count": 11,
   "id": "7c0cac31-60c2-4594-a495-228e8332e6d9",
   "metadata": {},
   "outputs": [
    {
     "data": {
      "text/html": [
       "<style>#sk-container-id-2 {color: black;background-color: white;}#sk-container-id-2 pre{padding: 0;}#sk-container-id-2 div.sk-toggleable {background-color: white;}#sk-container-id-2 label.sk-toggleable__label {cursor: pointer;display: block;width: 100%;margin-bottom: 0;padding: 0.3em;box-sizing: border-box;text-align: center;}#sk-container-id-2 label.sk-toggleable__label-arrow:before {content: \"▸\";float: left;margin-right: 0.25em;color: #696969;}#sk-container-id-2 label.sk-toggleable__label-arrow:hover:before {color: black;}#sk-container-id-2 div.sk-estimator:hover label.sk-toggleable__label-arrow:before {color: black;}#sk-container-id-2 div.sk-toggleable__content {max-height: 0;max-width: 0;overflow: hidden;text-align: left;background-color: #f0f8ff;}#sk-container-id-2 div.sk-toggleable__content pre {margin: 0.2em;color: black;border-radius: 0.25em;background-color: #f0f8ff;}#sk-container-id-2 input.sk-toggleable__control:checked~div.sk-toggleable__content {max-height: 200px;max-width: 100%;overflow: auto;}#sk-container-id-2 input.sk-toggleable__control:checked~label.sk-toggleable__label-arrow:before {content: \"▾\";}#sk-container-id-2 div.sk-estimator input.sk-toggleable__control:checked~label.sk-toggleable__label {background-color: #d4ebff;}#sk-container-id-2 div.sk-label input.sk-toggleable__control:checked~label.sk-toggleable__label {background-color: #d4ebff;}#sk-container-id-2 input.sk-hidden--visually {border: 0;clip: rect(1px 1px 1px 1px);clip: rect(1px, 1px, 1px, 1px);height: 1px;margin: -1px;overflow: hidden;padding: 0;position: absolute;width: 1px;}#sk-container-id-2 div.sk-estimator {font-family: monospace;background-color: #f0f8ff;border: 1px dotted black;border-radius: 0.25em;box-sizing: border-box;margin-bottom: 0.5em;}#sk-container-id-2 div.sk-estimator:hover {background-color: #d4ebff;}#sk-container-id-2 div.sk-parallel-item::after {content: \"\";width: 100%;border-bottom: 1px solid gray;flex-grow: 1;}#sk-container-id-2 div.sk-label:hover label.sk-toggleable__label {background-color: #d4ebff;}#sk-container-id-2 div.sk-serial::before {content: \"\";position: absolute;border-left: 1px solid gray;box-sizing: border-box;top: 0;bottom: 0;left: 50%;z-index: 0;}#sk-container-id-2 div.sk-serial {display: flex;flex-direction: column;align-items: center;background-color: white;padding-right: 0.2em;padding-left: 0.2em;position: relative;}#sk-container-id-2 div.sk-item {position: relative;z-index: 1;}#sk-container-id-2 div.sk-parallel {display: flex;align-items: stretch;justify-content: center;background-color: white;position: relative;}#sk-container-id-2 div.sk-item::before, #sk-container-id-2 div.sk-parallel-item::before {content: \"\";position: absolute;border-left: 1px solid gray;box-sizing: border-box;top: 0;bottom: 0;left: 50%;z-index: -1;}#sk-container-id-2 div.sk-parallel-item {display: flex;flex-direction: column;z-index: 1;position: relative;background-color: white;}#sk-container-id-2 div.sk-parallel-item:first-child::after {align-self: flex-end;width: 50%;}#sk-container-id-2 div.sk-parallel-item:last-child::after {align-self: flex-start;width: 50%;}#sk-container-id-2 div.sk-parallel-item:only-child::after {width: 0;}#sk-container-id-2 div.sk-dashed-wrapped {border: 1px dashed gray;margin: 0 0.4em 0.5em 0.4em;box-sizing: border-box;padding-bottom: 0.4em;background-color: white;}#sk-container-id-2 div.sk-label label {font-family: monospace;font-weight: bold;display: inline-block;line-height: 1.2em;}#sk-container-id-2 div.sk-label-container {text-align: center;}#sk-container-id-2 div.sk-container {/* jupyter's `normalize.less` sets `[hidden] { display: none; }` but bootstrap.min.css set `[hidden] { display: none !important; }` so we also need the `!important` here to be able to override the default hidden behavior on the sphinx rendered scikit-learn.org. See: https://github.com/scikit-learn/scikit-learn/issues/21755 */display: inline-block !important;position: relative;}#sk-container-id-2 div.sk-text-repr-fallback {display: none;}</style><div id=\"sk-container-id-2\" class=\"sk-top-container\"><div class=\"sk-text-repr-fallback\"><pre>XGBClassifier(base_score=0.5, booster=&#x27;gbtree&#x27;, callbacks=None,\n",
       "              colsample_bylevel=1, colsample_bynode=1, colsample_bytree=1,\n",
       "              early_stopping_rounds=None, enable_categorical=False,\n",
       "              eval_metric=None, gamma=0, gpu_id=-1, grow_policy=&#x27;depthwise&#x27;,\n",
       "              importance_type=None, interaction_constraints=&#x27;&#x27;,\n",
       "              learning_rate=0.300000012, max_bin=256, max_cat_to_onehot=4,\n",
       "              max_delta_step=0, max_depth=1, max_leaves=0, min_child_weight=1,\n",
       "              missing=nan, monotone_constraints=&#x27;()&#x27;, n_estimators=1, n_jobs=0,\n",
       "              num_parallel_tree=1, predictor=&#x27;auto&#x27;, random_state=0,\n",
       "              reg_alpha=0, reg_lambda=1, ...)</pre><b>In a Jupyter environment, please rerun this cell to show the HTML representation or trust the notebook. <br />On GitHub, the HTML representation is unable to render, please try loading this page with nbviewer.org.</b></div><div class=\"sk-container\" hidden><div class=\"sk-item\"><div class=\"sk-estimator sk-toggleable\"><input class=\"sk-toggleable__control sk-hidden--visually\" id=\"sk-estimator-id-2\" type=\"checkbox\" checked><label for=\"sk-estimator-id-2\" class=\"sk-toggleable__label sk-toggleable__label-arrow\">XGBClassifier</label><div class=\"sk-toggleable__content\"><pre>XGBClassifier(base_score=0.5, booster=&#x27;gbtree&#x27;, callbacks=None,\n",
       "              colsample_bylevel=1, colsample_bynode=1, colsample_bytree=1,\n",
       "              early_stopping_rounds=None, enable_categorical=False,\n",
       "              eval_metric=None, gamma=0, gpu_id=-1, grow_policy=&#x27;depthwise&#x27;,\n",
       "              importance_type=None, interaction_constraints=&#x27;&#x27;,\n",
       "              learning_rate=0.300000012, max_bin=256, max_cat_to_onehot=4,\n",
       "              max_delta_step=0, max_depth=1, max_leaves=0, min_child_weight=1,\n",
       "              missing=nan, monotone_constraints=&#x27;()&#x27;, n_estimators=1, n_jobs=0,\n",
       "              num_parallel_tree=1, predictor=&#x27;auto&#x27;, random_state=0,\n",
       "              reg_alpha=0, reg_lambda=1, ...)</pre></div></div></div></div></div>"
      ],
      "text/plain": [
       "XGBClassifier(base_score=0.5, booster='gbtree', callbacks=None,\n",
       "              colsample_bylevel=1, colsample_bynode=1, colsample_bytree=1,\n",
       "              early_stopping_rounds=None, enable_categorical=False,\n",
       "              eval_metric=None, gamma=0, gpu_id=-1, grow_policy='depthwise',\n",
       "              importance_type=None, interaction_constraints='',\n",
       "              learning_rate=0.300000012, max_bin=256, max_cat_to_onehot=4,\n",
       "              max_delta_step=0, max_depth=1, max_leaves=0, min_child_weight=1,\n",
       "              missing=nan, monotone_constraints='()', n_estimators=1, n_jobs=0,\n",
       "              num_parallel_tree=1, predictor='auto', random_state=0,\n",
       "              reg_alpha=0, reg_lambda=1, ...)"
      ]
     },
     "execution_count": 11,
     "metadata": {},
     "output_type": "execute_result"
    }
   ],
   "source": [
    "sur_stump = xgb.XGBClassifier(n_estimators=1, max_depth=1)\n",
    "sur_stump.fit(X_train, y_train)"
   ]
  },
  {
   "cell_type": "code",
   "execution_count": 12,
   "id": "31f8e626-4307-4f61-b5ef-df1fcac5f171",
   "metadata": {},
   "outputs": [
    {
     "data": {
      "text/plain": [
       "0.6243093922651933"
      ]
     },
     "execution_count": 12,
     "metadata": {},
     "output_type": "execute_result"
    }
   ],
   "source": [
    "sur_stump.score(X_test, y_test)"
   ]
  },
  {
   "cell_type": "markdown",
   "id": "4eb9afe0-e84d-4856-936b-90b93862d601",
   "metadata": {},
   "source": [
    "The XGBoost stump performs similarly to the scikit-learn decision tree."
   ]
  },
  {
   "cell_type": "code",
   "execution_count": 13,
   "id": "6ecfe6f2-5931-4dee-8dfd-21664c8db663",
   "metadata": {},
   "outputs": [
    {
     "data": {
      "image/png": "[encoded data removed]",
      "text/plain": [
       "<Figure size 864x864 with 1 Axes>"
      ]
     },
     "metadata": {
      "needs_background": "light"
     },
     "output_type": "display_data"
    }
   ],
   "source": [
    "fig, ax = plt.subplots(figsize=(12, 12))\n",
    "_=xgb.plot_tree(sur_stump, num_trees=0, ax=ax)"
   ]
  },
  {
   "cell_type": "markdown",
   "id": "81364523-5a68-4181-a758-48052564c38b",
   "metadata": {},
   "source": [
    "## 5.3 Values in the XGBoost Tree\n",
    "\n",
    "The numbers in the leaves of the export are called _logits_ by Statisticians and they represent the probabilities or  the logarithm of the odds of the positive value.\n",
    "\n",
    "When we calculate the inverse logit scores with the values from the nodes in the tree,\n",
    "we get the probability of the prediction.  If a survey respondent does not use the `R` language,\n",
    "the leaf value is $.0717741922$. The inverse logit of that is $.518$, or $51.8\\%$. Because this value is\n",
    "greater than $.5$, we assume the positive label or class of _\"Software Engineer\"_.\n",
    "\n",
    "Let’s see what probability comes out when we pass in $.0717741922$ for the left node and $-0.356190503$ for the right node:"
   ]
  },
  {
   "cell_type": "code",
   "execution_count": 15,
   "id": "5e29d22d-f7b5-4c5e-be88-750decc47d72",
   "metadata": {},
   "outputs": [
    {
     "data": {
      "text/plain": [
       "0.5179358489487103"
      ]
     },
     "execution_count": 15,
     "metadata": {},
     "output_type": "execute_result"
    }
   ],
   "source": [
    "inv_logit(.0717741922)"
   ]
  },
  {
   "cell_type": "code",
   "execution_count": 17,
   "id": "718dadab-3744-4566-9aa4-b67f1dba415b",
   "metadata": {},
   "outputs": [
    {
     "data": {
      "text/plain": [
       "0.41188204953156665"
      ]
     },
     "execution_count": 17,
     "metadata": {},
     "output_type": "execute_result"
    }
   ],
   "source": [
    "inv_logit(-0.356190503)"
   ]
  },
  {
   "cell_type": "markdown",
   "id": "9a433015-cde4-4f9a-839f-362a08f46ca9",
   "metadata": {},
   "source": [
    "From the above results, the inverse logit for the left node is $51.8\\%$, while that of the right node is $41.1\\%$. Because the number for the right node is below $.5$, we\n",
    "do not classify it as the second option but rather choose \"_Data Scientist\"_.\n",
    "\n",
    "If a user uses $R$, they have a higher likelihood of being a _\"Data Scientist\"_ $(1-.41 or\n",
    "59\\%)$, than a _\"Software Engineer\"_ who doesn’t use $R$ $(.518 or 52\\%)$. In other words, using\n",
    "$R$ pushes one more toward _data science_ than not using $R$ pushes one toward _software\n",
    "engineering_.\n",
    "\n",
    "Let us now plot the _inverse logit_ function below."
   ]
  },
  {
   "cell_type": "code",
   "execution_count": 25,
   "id": "19218075-af68-42d9-8c4d-5869285160d2",
   "metadata": {},
   "outputs": [
    {
     "data": {
      "text/plain": [
       "Text(-3, 0.4, 'Predict Negative')"
      ]
     },
     "execution_count": 25,
     "metadata": {},
     "output_type": "execute_result"
    },
    {
     "data": {
      "image/png": "[encoded data removed]",
      "text/plain": [
       "<Figure size 576x288 with 1 Axes>"
      ]
     },
     "metadata": {
      "needs_background": "light"
     },
     "output_type": "display_data"
    }
   ],
   "source": [
    "fig, ax = plt.subplots(figsize=(8, 4))\n",
    "vals = np.linspace(-7, 7)\n",
    "ax.plot(vals, inv_logit(vals))\n",
    "ax.annotate('Crossover Point', (0,.5), (-5,.65), arrowprops={'color':'blue'})\n",
    "ax.annotate('Predict Positive', (5,.6), (1,.6), va='center', arrowprops={'color':'maroon'})\n",
    "ax.annotate('Predict Negative', (-5,.4), (-3,.4), va='center', arrowprops={'color':'k'})"
   ]
  },
  {
   "cell_type": "markdown",
   "id": "228328d0-50ff-49e5-ac26-50c744a58b99",
   "metadata": {},
   "source": [
    "When the $x$ values are above $0$, the $y$ value will be $> .5$ (Software\n",
    "Engineer). When they are below $0$, the values will be $< .5$ (Data Scientist).\n",
    "\n",
    "\n",
    "1. `fig, ax = plt.subplots(figsize=(8, 4))`: This line creates a new figure and a single subplot with a size of 8 inches by 4 inches. The figure and axes objects are assigned to the variables `fig` and `ax`, respectively.\n",
    "\n",
    "2. `vals = np.linspace(-7, 7)`: This line creates an array of evenly spaced values between -7 and 7 using the `linspace` function from the `numpy` library. The resulting array is assigned to the variable `vals`.\n",
    "\n",
    "3. `ax.plot(vals, inv_logit(vals))`: This line plots the values in the `vals` array on the x-axis and the result of calling the `inv_logit` function with `vals` as an argument on the y-axis. The plot is added to the axes object `ax`.\n",
    "\n",
    "4. `ax.annotate('Crossover Point', (0,.5), (-5,.8), arrowprops={'color':'blue'})`: This line adds an annotation to the plot at the point `(0, .5)` with the text `'Crossover point'`. An arrow is drawn from the text to the point `(-5, .8)` with a blue color.\n",
    "\n",
    "5. `ax.annotate('Predict Positive', (5,.6), (1,.6), va='center', arrowprops={'color':'maroon'})`: This line adds another annotation to the plot at the point `(5, .6)` with the text `'Predict Positive'`. An arrow is drawn from the text to the point `(1, .6)` with a maroon color. The text is vertically centered.\n",
    "\n",
    "6. `ax.annotate('Predict Negative', (-5,.4), (-3,.4), va='center', arrowprops={'color':'k'})`: This line adds a third annotation to the plot at the point `(-5, .4)` with the text `'Predict Negative'`. An arrow is drawn from the text to the point `(-3, .4)` with a black color. The text is also vertically centered.\n"
   ]
  },
  {
   "cell_type": "code",
   "execution_count": null,
   "id": "f9c49273-80a5-451f-9f23-70515e6ff104",
   "metadata": {},
   "outputs": [],
   "source": [
    "import graphviz\n",
    "\n",
    "filename='img/stump_xg_kag.dot'\n",
    "# Read the .dot file\n",
    "with open(filename, 'r') as f:\n",
    "    dot_graph = f.read()\n",
    "\n",
    "# Create a graph from the .dot data\n",
    "graph = graphviz.Source(dot_graph)\n",
    "\n",
    "# Render the graph\n",
    "graph.view()"
   ]
  },
  {
   "cell_type": "code",
   "execution_count": null,
   "id": "96eb843b-de56-4460-9705-d9fd95324b1e",
   "metadata": {},
   "outputs": [],
   "source": []
  }
 ],
 "metadata": {
  "kernelspec": {
   "display_name": "Python 3 (ipykernel)",
   "language": "python",
   "name": "python3"
  },
  "language_info": {
   "codemirror_mode": {
    "name": "ipython",
    "version": 3
   },
   "file_extension": ".py",
   "mimetype": "text/x-python",
   "name": "python",
   "nbconvert_exporter": "python",
   "pygments_lexer": "ipython3",
   "version": "3.9.12"
  }
 },
 "nbformat": 4,
 "nbformat_minor": 5
}
