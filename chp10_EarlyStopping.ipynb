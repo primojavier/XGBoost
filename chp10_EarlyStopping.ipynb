{
 "cells": [
  {
   "cell_type": "markdown",
   "id": "2a858fde-dcd9-430d-83c2-25b9f30f8dda",
   "metadata": {},
   "source": [
    "Early stopping is a technique used to prevent overfitting when training machine learning models, including XGBoost models. Overfitting occurs when a model is trained for too many iterations and starts to memorize the training data instead of learning to generalize from it. \n",
    "\n",
    "Early stopping works by monitoring the model’s performance on a validation dataset during training. If the performance on the validation dataset stops improving for a certain number of iterations, the training is stopped early and the best iteration is used as the final model.\n",
    "\n",
    "In XGBoost, you can use early stopping by specifying a validation dataset and setting the early_stopping_rounds parameter when calling the fit method. For example, if you set early_stopping_rounds=10, training will stop if the performance on the validation dataset doesn’t improve for 10 consecutive rounds.\n",
    "\n",
    "Early stopping can help you save time and computational resources by stopping the training process early if it’s not likely to result in further improvements. It can also help you avoid overfitting by preventing the model from being trained for too many iterations.\n",
    "\n",
    "we can achieve early stopping in XGBoost models when we call the `.fit` method.\n",
    "\n",
    "## 10.1 Early Stopping Rounds\n",
    "\n",
    "Here are the results of XGBoost using out-of-the-box behavior. By default, the model will\n",
    "create 100 trees. This model labels about 74% of the test examples correctly:"
   ]
  },
  {
   "cell_type": "code",
   "execution_count": 1,
   "id": "79ef1480-1e47-455c-9bcc-8dfc3308f58f",
   "metadata": {},
   "outputs": [],
   "source": [
    "import dtreeviz\n",
    "from feature_engine import encoding, imputation\n",
    "import matplotlib.pyplot as plt\n",
    "import numpy as np\n",
    "import pandas as pd\n",
    "from sklearn import base, compose, datasets, ensemble, metrics, model_selection, pipeline, preprocessing, tree\n",
    "import scikitplot\n",
    "import xgboost as xgb\n",
    "import yellowbrick.model_selection as ms\n",
    "from yellowbrick import classifier\n",
    "import urllib\n",
    "import zipfile\n",
    "\n",
    "from EffectiveXGBoost import *"
   ]
  },
  {
   "cell_type": "code",
   "execution_count": 2,
   "id": "14126273-090c-410b-a30b-75095add1eed",
   "metadata": {},
   "outputs": [
    {
     "name": "stderr",
     "output_type": "stream",
     "text": [
      "G:\\My Drive\\SisengAI\\AlgorithmicTrading\\code_rebuilding\\MattHarrison\\EffectiveXGBoost\\EffectiveXGBoost_MyTake\\EffectiveXGBoost.py:56: DtypeWarning: Columns (0,2,8,10,21,23,24,25,26,27,28,44,56,64,83,85,87,107,109,123,125,150,157,172,174,194,210,218,219,223,246,249,262,264,276,277,278,279,280,281,282,283,284,285,286,287,288,289,290,304,306,325,326,329,341,368,371,384,385,389,390,391,393,394) have mixed types. Specify dtype option on import or set low_memory=False.\n"
     ]
    },
    {
     "data": {
      "text/plain": [
       "0.7458563535911602"
      ]
     },
     "execution_count": 2,
     "metadata": {},
     "output_type": "execute_result"
    }
   ],
   "source": [
    "path_url = 'https://github.com/mattharrison/datasets/raw/master/data/kaggle-survey-2018.zip'\n",
    "file_name = 'kaggle-survey-2018.zip'\n",
    "dataset = 'multipleChoiceResponses.csv'\n",
    "\n",
    "raw = extract_dataset(path_url, file_name, dataset)\n",
    "\n",
    "# Create raw X and raw y\n",
    "kag_X, kag_y = prepX_y(raw, 'Q6')\n",
    "\n",
    "# Split data\n",
    "kag_X_train, kag_X_test, kag_y_train, kag_y_test = (model_selection\n",
    "                                                    .train_test_split(kag_X, \n",
    "                                                                      kag_y, \n",
    "                                                                      test_size=.3, \n",
    "                                                                      random_state=42, \n",
    "                                                                      stratify=kag_y)\n",
    "                                                   )\n",
    "\n",
    "\n",
    "# Transform X with pipeline\n",
    "pline = pipeline.Pipeline(\n",
    "    [('tweak', PrepDataTransformer()),\n",
    "    ('cat', encoding.OneHotEncoder(top_categories=5, drop_last=True,\n",
    "    variables=['Q1', 'Q3', 'major'])),\n",
    "    ('num_impute', imputation.MeanMedianImputer(imputation_method='median',\n",
    "                variables=['education', 'years_exp']))]\n",
    "    )\n",
    "\n",
    "X_train = pline.fit_transform(kag_X_train)\n",
    "X_test = pline.transform(kag_X_test)\n",
    "\n",
    "# Transform y with label encoder\n",
    "label_encoder = preprocessing.LabelEncoder()\n",
    "label_encoder.fit(kag_y_train)\n",
    "y_train = label_encoder.transform(kag_y_train)\n",
    "y_test = label_encoder.transform(kag_y_test)\n",
    "\n",
    "# Combined Data for cross validation/etc\n",
    "X = pd.concat([X_train, X_test], axis='index')\n",
    "y = pd.Series([*y_train, *y_test], index=X.index)\n",
    "\n",
    "# Default training\n",
    "xg = xgb.XGBClassifier()\n",
    "xg.fit(X_train, y_train)\n",
    "xg.score(X_test, y_test)"
   ]
  },
  {
   "cell_type": "markdown",
   "id": "3c8d03b1-7312-4318-a72b-922fa720aedd",
   "metadata": {},
   "source": [
    "Let us provide the `'early_stopping_rounds parameter=20'` when n instance of the `XGBClassifier` class is created.\n",
    "\n",
    "Next, the `.fit` method is called on the `xg` classifier object to train the model on the training data` X_train` and `y_train`. The `'eval_set'` parameter is set to a list containing two tuples: one with the training data and one with the test data. This tells XGBoost to evaluate the model’s performance on both the training and test datasets during training.\n",
    "\n",
    "During training, XGBoost will monitor the model’s performance on the test dataset and stop training early if the performance doesn’t improve for 20 consecutive rounds. "
   ]
  },
  {
   "cell_type": "code",
   "execution_count": 3,
   "id": "1171c038-2417-46cc-b70c-413caaabd84b",
   "metadata": {},
   "outputs": [
    {
     "name": "stdout",
     "output_type": "stream",
     "text": [
      "[0]\tvalidation_0-logloss:0.61534\tvalidation_1-logloss:0.61775\n",
      "[1]\tvalidation_0-logloss:0.57046\tvalidation_1-logloss:0.57623\n",
      "[2]\tvalidation_0-logloss:0.54011\tvalidation_1-logloss:0.55333\n",
      "[3]\tvalidation_0-logloss:0.51965\tvalidation_1-logloss:0.53711\n",
      "[4]\tvalidation_0-logloss:0.50419\tvalidation_1-logloss:0.52511\n",
      "[5]\tvalidation_0-logloss:0.49176\tvalidation_1-logloss:0.51741\n",
      "[6]\tvalidation_0-logloss:0.48159\tvalidation_1-logloss:0.51277\n",
      "[7]\tvalidation_0-logloss:0.47221\tvalidation_1-logloss:0.51040\n",
      "[8]\tvalidation_0-logloss:0.46221\tvalidation_1-logloss:0.50713\n",
      "[9]\tvalidation_0-logloss:0.45700\tvalidation_1-logloss:0.50583\n",
      "[10]\tvalidation_0-logloss:0.45062\tvalidation_1-logloss:0.50430\n",
      "[11]\tvalidation_0-logloss:0.44533\tvalidation_1-logloss:0.50338\n",
      "[12]\tvalidation_0-logloss:0.43736\tvalidation_1-logloss:0.50033\n",
      "[13]\tvalidation_0-logloss:0.43399\tvalidation_1-logloss:0.50034\n",
      "[14]\tvalidation_0-logloss:0.43004\tvalidation_1-logloss:0.50192\n",
      "[15]\tvalidation_0-logloss:0.42550\tvalidation_1-logloss:0.50268\n",
      "[16]\tvalidation_0-logloss:0.42169\tvalidation_1-logloss:0.50196\n",
      "[17]\tvalidation_0-logloss:0.41854\tvalidation_1-logloss:0.50223\n",
      "[18]\tvalidation_0-logloss:0.41485\tvalidation_1-logloss:0.50360\n",
      "[19]\tvalidation_0-logloss:0.41228\tvalidation_1-logloss:0.50527\n",
      "[20]\tvalidation_0-logloss:0.40872\tvalidation_1-logloss:0.50839\n",
      "[21]\tvalidation_0-logloss:0.40490\tvalidation_1-logloss:0.50623\n",
      "[22]\tvalidation_0-logloss:0.40280\tvalidation_1-logloss:0.50806\n",
      "[23]\tvalidation_0-logloss:0.39942\tvalidation_1-logloss:0.51007\n",
      "[24]\tvalidation_0-logloss:0.39807\tvalidation_1-logloss:0.50987\n",
      "[25]\tvalidation_0-logloss:0.39473\tvalidation_1-logloss:0.51189\n",
      "[26]\tvalidation_0-logloss:0.39389\tvalidation_1-logloss:0.51170\n",
      "[27]\tvalidation_0-logloss:0.39040\tvalidation_1-logloss:0.51218\n",
      "[28]\tvalidation_0-logloss:0.38837\tvalidation_1-logloss:0.51135\n",
      "[29]\tvalidation_0-logloss:0.38569\tvalidation_1-logloss:0.51202\n",
      "[30]\tvalidation_0-logloss:0.37945\tvalidation_1-logloss:0.51352\n",
      "[31]\tvalidation_0-logloss:0.37840\tvalidation_1-logloss:0.51545\n"
     ]
    },
    {
     "data": {
      "text/plain": [
       "0.7558011049723757"
      ]
     },
     "execution_count": 3,
     "metadata": {},
     "output_type": "execute_result"
    }
   ],
   "source": [
    "xg = xgb.XGBClassifier(early_stopping_rounds=20)\n",
    "xg.fit(X_train, y_train, \n",
    "       eval_set=[(X_train, y_train), (X_test, y_test)])\n",
    "\n",
    "xg.score(X_test, y_test)"
   ]
  },
  {
   "cell_type": "markdown",
   "id": "b32aed91-88d9-40ba-865e-0c6a183d5307",
   "metadata": {},
   "source": [
    "We can ask the model what the limit was by inspecting the `.best_ntree_limit` attribute:"
   ]
  },
  {
   "cell_type": "code",
   "execution_count": 4,
   "id": "8abfcde0-cc63-4652-a5b5-10df3eedd273",
   "metadata": {},
   "outputs": [
    {
     "data": {
      "text/plain": [
       "13"
      ]
     },
     "execution_count": 4,
     "metadata": {},
     "output_type": "execute_result"
    }
   ],
   "source": [
    "xg.best_ntree_limit"
   ]
  },
  {
   "cell_type": "markdown",
   "id": "b4998d13-34dc-41a1-98c0-b07bb9a65b7e",
   "metadata": {},
   "source": [
    "## 10.2 Plotting Tree Performance\n",
    "We will explore the score that occurred during fitting the model. The `.eval_results` method will\n",
    "return a data structure containing the results from the `eval_set`."
   ]
  },
  {
   "cell_type": "code",
   "execution_count": 5,
   "id": "ead6fcd0-70aa-432c-b43c-446b7ea56396",
   "metadata": {},
   "outputs": [
    {
     "data": {
      "text/plain": [
       "{'validation_0': OrderedDict([('logloss',\n",
       "               [0.6153406503923696,\n",
       "                0.570456665259967,\n",
       "                0.5401074955389963,\n",
       "                0.5196461799091072,\n",
       "                0.5041859194777588,\n",
       "                0.4917588337620288,\n",
       "                0.4815858466047529,\n",
       "                0.4722135674049504,\n",
       "                0.4622124607211323,\n",
       "                0.4570046101736514,\n",
       "                0.4506211909637632,\n",
       "                0.4453310159057096,\n",
       "                0.4373589512455096,\n",
       "                0.4339914069427133,\n",
       "                0.43004427399415684,\n",
       "                0.42550266016301175,\n",
       "                0.42168949386987714,\n",
       "                0.418539318900061,\n",
       "                0.4148519256973189,\n",
       "                0.4122836277372164,\n",
       "                0.4087179540923545,\n",
       "                0.40489826790427885,\n",
       "                0.40279635313690876,\n",
       "                0.39941699934982083,\n",
       "                0.3980718076986071,\n",
       "                0.3947315311104598,\n",
       "                0.39388538918257093,\n",
       "                0.39039599370074535,\n",
       "                0.38837148117914494,\n",
       "                0.38569152608129825,\n",
       "                0.3794510695498472,\n",
       "                0.37840359450022193,\n",
       "                0.37538466163330503])]),\n",
       " 'validation_1': OrderedDict([('logloss',\n",
       "               [0.6177459120091813,\n",
       "                0.5762297137336836,\n",
       "                0.5533292924830927,\n",
       "                0.5371078263330196,\n",
       "                0.5251118483629016,\n",
       "                0.5174100387985535,\n",
       "                0.5127666982333304,\n",
       "                0.5103968677599786,\n",
       "                0.5071349117019888,\n",
       "                0.5058257413338562,\n",
       "                0.5043005665239378,\n",
       "                0.5033770955852053,\n",
       "                0.5003349147737026,\n",
       "                0.500343639228637,\n",
       "                0.5019165393520785,\n",
       "                0.5026775172031717,\n",
       "                0.5019612925713728,\n",
       "                0.5022262001183728,\n",
       "                0.5035970172726483,\n",
       "                0.5052709661197761,\n",
       "                0.5083886559280819,\n",
       "                0.5062287504265075,\n",
       "                0.5080608451852153,\n",
       "                0.5100736727207406,\n",
       "                0.509867396365172,\n",
       "                0.5118910036538599,\n",
       "                0.5117007328783939,\n",
       "                0.512182518838807,\n",
       "                0.5113475983128857,\n",
       "                0.5120185821651589,\n",
       "                0.5135189278200475,\n",
       "                0.5154504013839513,\n",
       "                0.5158137125354157])])}"
      ]
     },
     "execution_count": 5,
     "metadata": {},
     "output_type": "execute_result"
    }
   ],
   "source": [
    "# validation_0 is for training data\n",
    "# validation_1 is for testing data\n",
    "results = xg.evals_result()\n",
    "results"
   ]
  },
  {
   "cell_type": "markdown",
   "id": "a05d1519-a2fa-45e8-9efa-365c0ec38ebf",
   "metadata": {},
   "source": [
    "We will plot that data and visualize what happens as we add more trees:"
   ]
  },
  {
   "cell_type": "code",
   "execution_count": 13,
   "id": "88e90c50-2933-4822-9d5e-b18e9bfce7d7",
   "metadata": {},
   "outputs": [
    {
     "data": {
      "image/png": "[encoded data removed]",
      "text/plain": [
       "<Figure size 360x288 with 1 Axes>"
      ]
     },
     "metadata": {},
     "output_type": "display_data"
    }
   ],
   "source": [
    "# Testing score is best at 13 trees\n",
    "results = xg.evals_result()\n",
    "fig, ax = plt.subplots(figsize=(8, 4))\n",
    "ax = (pd.DataFrame({'training': results['validation_0']['logloss'],\n",
    "'testing': results['validation_1']['logloss']})\n",
    ".assign(ntrees=lambda adf: range(1, len(adf)+1))\n",
    ".set_index('ntrees')\n",
    ".plot(figsize=(5,4), \n",
    "      ax=ax, title='eval_results with early_stopping'))\n",
    "ax.annotate('Best number \\nof trees (13)', xy=(13, .498), \n",
    "            xytext=(20,.42), arrowprops={'color':'maroon'})\n",
    "ax.set_xlabel('ntrees');"
   ]
  },
  {
   "cell_type": "markdown",
   "id": "37b4ba82-255c-49eb-8ae0-895136f6e6a9",
   "metadata": {},
   "source": [
    "This is an example of how to visualize the performance of an XGBoost classifier during training using the `.evals_result` method and the matplotlib library in Python.\n",
    "\n",
    "First, the `.evals_result` method is called on the `xg` classifier object to get the evaluation results for each round of training. The results are stored in a variable named `results`.\n",
    "\n",
    "Next, a new `figure` and `axes` are created using the subplots function from the `matplotlib.pyplot` module. The figure size is set to 8 by 4 inches.\n",
    "```python\n",
    "fig, ax = plt.subplots(figsize=(8, 4))\n",
    "```\n",
    "Then, a new DataFrame is created from the results dictionary. The DataFrame has two columns: one for the training log loss and one for the testing log loss. A new column named `ntrees` is added to the DataFrame using the `.assign` method. This column contains the number of trees used in each round of training.\n",
    "\n",
    "The DataFrame is then plotted using the plot method. The ntrees column is set as the index of the DataFrame and used as the x-axis of the plot. The training and testing log loss values are plotted on the y-axis. The figure size is set to 5 by 4 inches and the title of the plot is set to ‘eval_results with early_stopping’.\n",
    "\n",
    "```python\n",
    "ax = (pd.DataFrame({'training': results['validation_0']['logloss'],\n",
    "'testing': results['validation_1']['logloss']})\n",
    ".assign(ntrees=lambda adf: range(1, len(adf)+1))\n",
    ".set_index('ntrees')\n",
    ".plot(figsize=(5,4), \n",
    "      ax=ax, title='eval_results with early_stopping'))\n",
    "```\n",
    "\n",
    "An annotation is added to the plot using the annotate method on the axes object. The annotation text is ‘Best number of trees (13)’ and it is placed at coordinates (13, .498) on the plot. An arrow pointing to these coordinates is added using the arrowprops parameter.\n",
    "\n",
    "Finally, the x-axis label is set to ‘ntrees’ using the set_xlabel method on the axes object.\n",
    "\n",
    "```python\n",
    "ax.annotate('Best number \\nof trees (13)', xy=(13, .498), \n",
    "            xytext=(20,.42), arrowprops={'color':'k'})\n",
    "ax.set_xlabel('ntrees');\n",
    "```\n",
    "This code generates a plot that shows how the log loss on both the training and testing datasets changes as more trees are added to the XGBoost model during training. The plot can be used to determine the optimal number of trees for the model based on its performance on the test dataset.\n",
    "\n",
    "Let us train a model with 13 trees or estimators and see how the model\n",
    "performs:"
   ]
  },
  {
   "cell_type": "code",
   "execution_count": 14,
   "id": "f22011c4-74af-4447-be73-0a1e2fe70a09",
   "metadata": {},
   "outputs": [
    {
     "name": "stdout",
     "output_type": "stream",
     "text": [
      "[0]\tvalidation_0-logloss:0.61534\tvalidation_1-logloss:0.61775\n",
      "[1]\tvalidation_0-logloss:0.57046\tvalidation_1-logloss:0.57623\n",
      "[2]\tvalidation_0-logloss:0.54011\tvalidation_1-logloss:0.55333\n",
      "[3]\tvalidation_0-logloss:0.51965\tvalidation_1-logloss:0.53711\n",
      "[4]\tvalidation_0-logloss:0.50419\tvalidation_1-logloss:0.52511\n",
      "[5]\tvalidation_0-logloss:0.49176\tvalidation_1-logloss:0.51741\n",
      "[6]\tvalidation_0-logloss:0.48159\tvalidation_1-logloss:0.51277\n",
      "[7]\tvalidation_0-logloss:0.47221\tvalidation_1-logloss:0.51040\n",
      "[8]\tvalidation_0-logloss:0.46221\tvalidation_1-logloss:0.50713\n",
      "[9]\tvalidation_0-logloss:0.45700\tvalidation_1-logloss:0.50583\n",
      "[10]\tvalidation_0-logloss:0.45062\tvalidation_1-logloss:0.50430\n",
      "[11]\tvalidation_0-logloss:0.44533\tvalidation_1-logloss:0.50338\n",
      "[12]\tvalidation_0-logloss:0.43736\tvalidation_1-logloss:0.50033\n"
     ]
    },
    {
     "data": {
      "text/plain": [
       "0.7558011049723757"
      ]
     },
     "execution_count": 14,
     "metadata": {},
     "output_type": "execute_result"
    }
   ],
   "source": [
    "# Using value from early stopping gives same result\n",
    "xg13 = xgb.XGBClassifier(n_estimators=13)\n",
    "xg13.fit(X_train, y_train, \n",
    "         eval_set=[(X_train, y_train), \n",
    "                   (X_test, y_test)])\n",
    "xg13.score(X_test, y_test)"
   ]
  },
  {
   "cell_type": "markdown",
   "id": "45678b63-b5bc-4216-a0f7-af973079cd48",
   "metadata": {},
   "source": [
    "let’s look at the model that creates exactly 100 trees. The score is worse than only\n",
    "using 13"
   ]
  },
  {
   "cell_type": "code",
   "execution_count": 15,
   "id": "f4058e18-de3e-412c-8391-568c771bf77a",
   "metadata": {},
   "outputs": [
    {
     "data": {
      "text/plain": [
       "0.7458563535911602"
      ]
     },
     "execution_count": 15,
     "metadata": {},
     "output_type": "execute_result"
    }
   ],
   "source": [
    "# No early stopping, uses all estimators\n",
    "xg_no_es = xgb.XGBClassifier()\n",
    "xg_no_es.fit(X_train, y_train)\n",
    "xg_no_es.score(X_test, y_test)"
   ]
  },
  {
   "cell_type": "markdown",
   "id": "f525226a-1f2b-4a59-a5d6-21b73920f53c",
   "metadata": {},
   "source": [
    "The early_stopping_rounds parameter helps to\n",
    "prevent overfitting and improves performance.\n",
    "\n",
    "## 10.3 Different eval_metrics\n",
    "The eval_metric options for XGBoost are metrics used to evaluate the results of an XGBoost\n",
    "model. They provide a way to measure the performance of a model on a dataset. Some of the\n",
    "most common eval_metric options for classification are:\n",
    "1. Log loss ('logloss') - The default measure. Log loss measures a model’s negative log-likelihood performance that predicts a given class’s probability. It penalizes incorrect predictions more heavily than correct ones.\n",
    "2. Area under the curve ('auc') - AUC is used to measure the performance of a binary classification model. It is the Area Under a receiver operating characteristic Curve.\n",
    "3. Accuracy ('error') - Accuracy is the percent of correct predictions. XGBoost uses the error, which is one minus accuracy because it wants to minimize the value.\n",
    "4. You can also create a custom function for evaluation. In the following example, I set the eval_metric to 'error'."
   ]
  },
  {
   "cell_type": "code",
   "execution_count": 16,
   "id": "0d0042a9-f9ee-4982-899a-3e12e9cd4ad7",
   "metadata": {},
   "outputs": [
    {
     "name": "stdout",
     "output_type": "stream",
     "text": [
      "[0]\tvalidation_0-error:0.24739\tvalidation_1-error:0.27072\n",
      "[1]\tvalidation_0-error:0.24218\tvalidation_1-error:0.26188\n",
      "[2]\tvalidation_0-error:0.23839\tvalidation_1-error:0.24751\n",
      "[3]\tvalidation_0-error:0.23697\tvalidation_1-error:0.25193\n",
      "[4]\tvalidation_0-error:0.23081\tvalidation_1-error:0.24530\n",
      "[5]\tvalidation_0-error:0.22607\tvalidation_1-error:0.24420\n",
      "[6]\tvalidation_0-error:0.22180\tvalidation_1-error:0.24862\n",
      "[7]\tvalidation_0-error:0.21801\tvalidation_1-error:0.24862\n",
      "[8]\tvalidation_0-error:0.21280\tvalidation_1-error:0.25304\n",
      "[9]\tvalidation_0-error:0.21043\tvalidation_1-error:0.25304\n",
      "[10]\tvalidation_0-error:0.20806\tvalidation_1-error:0.24641\n",
      "[11]\tvalidation_0-error:0.20284\tvalidation_1-error:0.25193\n",
      "[12]\tvalidation_0-error:0.20047\tvalidation_1-error:0.24420\n",
      "[13]\tvalidation_0-error:0.19668\tvalidation_1-error:0.24420\n",
      "[14]\tvalidation_0-error:0.19384\tvalidation_1-error:0.24530\n",
      "[15]\tvalidation_0-error:0.18815\tvalidation_1-error:0.24199\n",
      "[16]\tvalidation_0-error:0.18531\tvalidation_1-error:0.24199\n",
      "[17]\tvalidation_0-error:0.18389\tvalidation_1-error:0.23867\n",
      "[18]\tvalidation_0-error:0.18531\tvalidation_1-error:0.23757\n",
      "[19]\tvalidation_0-error:0.18815\tvalidation_1-error:0.23867\n",
      "[20]\tvalidation_0-error:0.18246\tvalidation_1-error:0.24199\n",
      "[21]\tvalidation_0-error:0.17915\tvalidation_1-error:0.24862\n",
      "[22]\tvalidation_0-error:0.17867\tvalidation_1-error:0.24751\n",
      "[23]\tvalidation_0-error:0.17630\tvalidation_1-error:0.24199\n",
      "[24]\tvalidation_0-error:0.17488\tvalidation_1-error:0.24309\n",
      "[25]\tvalidation_0-error:0.17251\tvalidation_1-error:0.24530\n",
      "[26]\tvalidation_0-error:0.17204\tvalidation_1-error:0.24309\n",
      "[27]\tvalidation_0-error:0.16825\tvalidation_1-error:0.24199\n",
      "[28]\tvalidation_0-error:0.16730\tvalidation_1-error:0.24088\n",
      "[29]\tvalidation_0-error:0.16019\tvalidation_1-error:0.24199\n",
      "[30]\tvalidation_0-error:0.15782\tvalidation_1-error:0.24972\n",
      "[31]\tvalidation_0-error:0.15972\tvalidation_1-error:0.24862\n",
      "[32]\tvalidation_0-error:0.15924\tvalidation_1-error:0.24641\n",
      "[33]\tvalidation_0-error:0.15403\tvalidation_1-error:0.25635\n",
      "[34]\tvalidation_0-error:0.15261\tvalidation_1-error:0.25525\n",
      "[35]\tvalidation_0-error:0.15213\tvalidation_1-error:0.25525\n",
      "[36]\tvalidation_0-error:0.15166\tvalidation_1-error:0.25525\n",
      "[37]\tvalidation_0-error:0.14550\tvalidation_1-error:0.25525\n",
      "[38]\tvalidation_0-error:0.14597\tvalidation_1-error:0.25083\n"
     ]
    },
    {
     "data": {
      "text/plain": [
       "0.7624309392265194"
      ]
     },
     "execution_count": 16,
     "metadata": {},
     "output_type": "execute_result"
    }
   ],
   "source": [
    "xg_err = xgb.XGBClassifier(early_stopping_rounds=20, eval_metric='error')\n",
    "xg_err.fit(X_train, y_train, \n",
    "           eval_set=[(X_train, y_train), (X_test, y_test)])\n",
    "xg_err.score(X_test, y_test)"
   ]
  },
  {
   "cell_type": "code",
   "execution_count": 17,
   "id": "e3887492-68a4-4711-8f0c-b2b9fc0dc5d0",
   "metadata": {},
   "outputs": [
    {
     "data": {
      "text/plain": [
       "19"
      ]
     },
     "execution_count": 17,
     "metadata": {},
     "output_type": "execute_result"
    }
   ],
   "source": [
    "xg_err.best_ntree_limit"
   ]
  },
  {
   "cell_type": "markdown",
   "id": "aac9d8ae-e763-46dd-869e-4c03bba56734",
   "metadata": {},
   "source": [
    "Now, the best number of trees when we minimize error is 19."
   ]
  },
  {
   "cell_type": "code",
   "execution_count": null,
   "id": "7ea834d1-4330-447c-8f54-843ef75c9c14",
   "metadata": {},
   "outputs": [],
   "source": []
  }
 ],
 "metadata": {
  "kernelspec": {
   "display_name": "Python 3 (ipykernel)",
   "language": "python",
   "name": "python3"
  },
  "language_info": {
   "codemirror_mode": {
    "name": "ipython",
    "version": 3
   },
   "file_extension": ".py",
   "mimetype": "text/x-python",
   "name": "python",
   "nbconvert_exporter": "python",
   "pygments_lexer": "ipython3",
   "version": "3.9.12"
  }
 },
 "nbformat": 4,
 "nbformat_minor": 5
}
